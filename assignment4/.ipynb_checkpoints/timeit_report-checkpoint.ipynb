{
 "cells": [
  {
   "cell_type": "code",
   "execution_count": 1,
   "metadata": {},
   "outputs": [],
   "source": [
    "import cv2 \n",
    "import timeit\n",
    "import numpy as np\n",
    "\n",
    "import blur_1\n",
    "import blur_2 \n",
    "import blur_3 \n"
   ]
  },
  {
   "cell_type": "markdown",
   "metadata": {},
   "source": [
    "## Estimating time for each method. "
   ]
  },
  {
   "cell_type": "markdown",
   "metadata": {},
   "source": [
    "(H,W,C) = (480, 640, 3) beatles.jpg\n",
    "(H,W,C) = (402, 721, 3) zebra.jpg \n"
   ]
  },
  {
   "cell_type": "markdown",
   "metadata": {},
   "source": [
    "#### timeit python method "
   ]
  },
  {
   "cell_type": "code",
   "execution_count": 29,
   "metadata": {},
   "outputs": [
    {
     "name": "stdout",
     "output_type": "stream",
     "text": [
      "3.82 s ± 103 ms per loop (mean ± std. dev. of 7 runs, 1 loop each)\n"
     ]
    }
   ],
   "source": [
    "\n",
    "pad_image, image = blur_1.padImage()\n",
    "%timeit blur_1.blur_python(pad_image, image)\n",
    "\n"
   ]
  },
  {
   "cell_type": "code",
   "execution_count": 30,
   "metadata": {},
   "outputs": [
    {
     "name": "stdout",
     "output_type": "stream",
     "text": [
      "3.88 s ± 400 ms per loop (mean ± std. dev. of 100 runs, 1 loop each)\n"
     ]
    }
   ],
   "source": [
    "#pad_image, image = blur_1.padImage()\n",
    "\n",
    "%timeit -r 100 blur_1.blur_python(pad_image, image) "
   ]
  },
  {
   "cell_type": "code",
   "execution_count": 5,
   "metadata": {},
   "outputs": [
    {
     "name": "stdout",
     "output_type": "stream",
     "text": [
      "3.43 s ± 34.2 ms per loop (mean ± std. dev. of 7 runs, 1 loop each)\n"
     ]
    }
   ],
   "source": [
    "\n",
    "pad_image, image = blur_1.padImage()\n",
    "%timeit blur_1.blur_python(pad_image, image)\n"
   ]
  },
  {
   "cell_type": "markdown",
   "metadata": {},
   "source": [
    "#### timeit numpy method "
   ]
  },
  {
   "cell_type": "code",
   "execution_count": 11,
   "metadata": {},
   "outputs": [
    {
     "name": "stdout",
     "output_type": "stream",
     "text": [
      "24.4 ms ± 1.61 ms per loop (mean ± std. dev. of 7 runs, 10 loops each)\n"
     ]
    }
   ],
   "source": [
    "#pad_image, image = blur_2.padImage()\n",
    "%timeit blur_2.blur_numpy(pad_image, image)"
   ]
  },
  {
   "cell_type": "markdown",
   "metadata": {},
   "source": [
    "#### timeit numba method  "
   ]
  },
  {
   "cell_type": "code",
   "execution_count": 14,
   "metadata": {},
   "outputs": [
    {
     "name": "stdout",
     "output_type": "stream",
     "text": [
      "7.7 ms ± 147 µs per loop (mean ± std. dev. of 7 runs, 1 loop each)\n"
     ]
    }
   ],
   "source": [
    "%timeit blur_3.blur_numba(pad_image, image)"
   ]
  },
  {
   "cell_type": "markdown",
   "metadata": {},
   "source": [
    "#### timeit Cython method  "
   ]
  },
  {
   "cell_type": "raw",
   "metadata": {},
   "source": [
    "cython \n",
    "\n",
    "100000 loops: 0.01786250117778778 s pr loop 18ms with print statement each 1000 print. \n",
    "10000 loops: 0.0107141667842865 s pr loop. \n",
    "100: 10.6ms \n",
    "\n",
    "Image2: \n",
    "100 loops:  0.01008314847946167 s pr loop. "
   ]
  },
  {
   "cell_type": "markdown",
   "metadata": {},
   "source": [
    "Compare the runtime on some input of your choosing. How much is gained by switching to numpy? Your report should contain the dimensions of the image being blurred (that is, H,W,C), along with the runtime for each script. \n",
    "\n",
    "\n",
    "## report2.txt \n",
    "\n",
    "Using two images, with dimensions: \n",
    "    Image1 - (H,W,C) = (480, 640, 3) beatles.jpg\n",
    "    Image2 - (H,W,C) = (402, 721, 3) zebra.jpg \n",
    "    \n",
    "Runtime: \n",
    "    Image1: \n",
    "    Python: 3.82 s ± 103 ms per loop (mean ± std. dev. of 7 runs, 1 loop each)\n",
    "    Numpy: 30.1 ms ± 4.17 ms per loop (mean ± std. dev. of 7 runs, 10 loops each) \n",
    "    \n",
    "    Image2: \n",
    "    Python: 3.43 s ± 34.2 ms per loop (mean ± std. dev. of 7 runs, 1 loop each)\n",
    "    Numpy: 24.4 ms ± 1.61 ms per loop (mean ± std. dev. of 7 runs, 10 loops each)\n",
    "\n",
    "By using vectorized implementation with numpy slicing it is observed that the computation time is significantly improved from approximately 3.8 seconds to approximately 30 ms. This is expected since the vectors computes the nine arrays in one computation, and not the pixel value elementwise. \n",
    "\n",
    "Speedup gained from python to vectorized: \n",
    "    Image1 - (3.43-0.024)/0.024 = 141.9% gained \n",
    "    Image2 - (3.82-0.03)/0.03 = 126.3% gained \n",
    "\n"
   ]
  },
  {
   "cell_type": "markdown",
   "metadata": {},
   "source": [
    "Compare the runtime on some input of your choosing. How much is gained by switching to numpy? Your report should contain the dimensions of the image being blurred (that is, H,W,C), along with the runtime for each script. \n",
    "\n",
    "Can you think of any advantages/disadvantages to using Numba instead of Numpy?\n",
    "\n",
    "\n",
    "## report3.txt \n",
    "\n",
    "Using two images, with dimensions: \n",
    "    Image1 - (H,W,C) = (480, 640, 3) beatles.jpg\n",
    "    Image2 - (H,W,C) = (402, 721, 3) zebra.jpg \n",
    "    \n",
    "Runtime: \n",
    "    Image1: \n",
    "    Python: 3.82 s ± 103 ms per loop (mean ± std. dev. of 7 runs, 1 loop each)\n",
    "    Numpy: 30.1 ms ± 4.17 ms per loop (mean ± std. dev. of 7 runs, 10 loops each) \n",
    "    Numba: 9.09 ms ± 949 µs per loop (mean ± std. dev. of 7 runs, 100 loops each)\n",
    "\n",
    "    \n",
    "    Image2: \n",
    "    Python: 3.43 s ± 34.2 ms per loop (mean ± std. dev. of 7 runs, 1 loop each)\n",
    "    Numpy: 24.4 ms ± 1.61 ms per loop (mean ± std. dev. of 7 runs, 10 loops each)\n",
    "    Numba: 7.7 ms ± 147 µs per loop (mean ± std. dev. of 7 runs, 1 loop each) \n",
    "    \n",
    "By changing to Numba from Numpy it is observed that the speedup is even higher. For very demanding computations this can have a significant difference, but for the computations like this assignment it might be better to use numpy. Numba can be difficult to debug because numba is black box optimized in the background. At the same time Numba is highly automated and simple to use, the minor investment of annotating the code can give significant improvement in execution time. \n",
    "\n",
    "Speedup gained from python to vectorized: \n",
    "    Image2 - (3.43-0.024)/0.024 = 141.9% gained \n",
    "    Image1 - (3.82-0.03)/0.03 = 126.3% gained \n",
    "    \n",
    "Speedup gained from python to numba:  \n",
    "    Image2 - (3.43-0.0077)/0.0077 = 444.5% gained \n",
    "    Image1 - (3.82-0.009)/0.009 = 423% gained  \n",
    "   \n",
    "Speedup gained from numpy to numba:  \n",
    "    Image2 - (0.024-0.0077)/0.0077 = 2.1% gained \n",
    "    Image1 - (0.03-0.009)/0.009 = 2.3% gained  \n",
    "\n",
    "\n",
    "\n",
    "\n",
    "\n",
    "\n"
   ]
  },
  {
   "cell_type": "markdown",
   "metadata": {},
   "source": [
    "Compare the runtime on some input of your choosing. How much is gained by switching to numpy? Your report should contain the dimensions of the image being blurred (that is, H,W,C), along with the runtime for each script. \n",
    "\n",
    "Can you think of any advantages/disadvantages to using Numba instead of Numpy?\n",
    "\n",
    "\n",
    "\n",
    "## report4.txt \n",
    "\n",
    "Using two images, with dimensions: \n",
    "    Image1 - (H,W,C) = (480, 640, 3) beatles.jpg\n",
    "    Image2 - (H,W,C) = (402, 721, 3) zebra.jpg \n",
    "    \n",
    "Runtime: \n",
    "    Image1: \n",
    "    Python: 3.82 s ± 103 ms per loop (mean ± std. dev. of 7 runs, 1 loop each)\n",
    "    Numpy: 30.1 ms ± 4.17 ms per loop (mean ± std. dev. of 7 runs, 10 loops each) \n",
    "    Numba: 9.09 ms ± 949 µs per loop (mean ± std. dev. of 7 runs, 100 loops each)\n",
    "    Cython: 10.7 ms pr loop (100 loops)\n",
    "\n",
    "    Image2: \n",
    "    Python: 3.43 s ± 34.2 ms per loop (mean ± std. dev. of 7 runs, 1 loop each)\n",
    "    Numpy: 24.4 ms ± 1.61 ms per loop (mean ± std. dev. of 7 runs, 10 loops each)\n",
    "    Numba: 7.7 ms ± 147 µs per loop (mean ± std. dev. of 7 runs, 1 loop each) \n",
    "    Cython: 10.0 ms pr loop (100 loops)\n",
    "    \n",
    "    \n",
    "By using Cython implementation the python code can be optimized with C. It is easy to access C libraries and  The positive effect \n",
    "\n",
    "Negative the code is not as readable, slower in loops. More overhead translating between C and python types, especially where both have to use the same code. Introduces a complicating build step. \n",
    "\n",
    "Can observe that the Cython code is slightly slower than the numba code as expected. Cython uses more overhead in loop preformance. Also it is harder to handroll optimized code compared to the automated way Numba can jit it. \n",
    "\n",
    "Speedup gained from python to vectorized: \n",
    "    Image2 - (3.43-0.024)/0.024 = 141.9% gained \n",
    "    Image1 - (3.82-0.03)/0.03 = 126.3% gained \n",
    "    \n",
    "Speedup gained from python to numba:  \n",
    "    Image2 - (3.43-0.0077)/0.0077 = 444.5% gained \n",
    "    Image1 - (3.82-0.009)/0.009 = 423% gained  \n",
    "   \n",
    "Speedup gained from numpy to numba:  \n",
    "    Image2 - (0.024-0.0077)/0.0077 = 2.1% gained \n",
    "    Image1 - (0.03-0.009)/0.009 = 2.3% gained  \n",
    "    \n",
    "Speedup gained from numpy to cython:\n",
    "    Image2 - (0.024-0.01)/0.01 = 1.4% gained \n",
    "    Image1 - (0.03-0.0107)/0.0107 = 1.8% gained  \n",
    "\n",
    "\n",
    "\n"
   ]
  }
 ],
 "metadata": {
  "kernelspec": {
   "display_name": "Python 3",
   "language": "python",
   "name": "python3"
  },
  "language_info": {
   "codemirror_mode": {
    "name": "ipython",
    "version": 3
   },
   "file_extension": ".py",
   "mimetype": "text/x-python",
   "name": "python",
   "nbconvert_exporter": "python",
   "pygments_lexer": "ipython3",
   "version": "3.6.8"
  }
 },
 "nbformat": 4,
 "nbformat_minor": 2
}
